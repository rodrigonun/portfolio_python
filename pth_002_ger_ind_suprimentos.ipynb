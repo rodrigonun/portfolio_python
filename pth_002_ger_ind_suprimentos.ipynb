{
 "cells": [
  {
   "cell_type": "markdown",
   "metadata": {
    "id": "Cq1Ptv0qnLYY"
   },
   "source": [
    "# GERAÇÃO DE UMA PLANILHA PARA GERAÇÃO DE INDICADORES DE CADEIA DE SUPRIMENTOS\n",
    "\n",
    "O código abaixo faz a geração de um arquivo .xlsx com 200 linhas contendo dados ficticios e aleatorios brutos que permitam os calculos dos seguintes indicadores: giro de estoque, cobertura de estoque, ruptura, sell-in, sell-out, otif, estoque virtual, excesso de estoque, market share, shelf life."
   ]
  },
  {
   "cell_type": "code",
   "execution_count": null,
   "metadata": {
    "colab": {
     "base_uri": "https://localhost:8080/"
    },
    "executionInfo": {
     "elapsed": 252,
     "status": "ok",
     "timestamp": 1740663234482,
     "user": {
      "displayName": "Rodrigo Nunes",
      "userId": "00657455925920141249"
     },
     "user_tz": 180
    },
    "id": "sErCOXuNfd_a",
    "outputId": "c9c9950c-2133-49ee-efe4-2437156c5be6"
   },
   "outputs": [
    {
     "name": "stdout",
     "output_type": "stream",
     "text": [
      "Planilha criada com sucesso!\n"
     ]
    }
   ],
   "source": [
    "import pandas as pd\n",
    "import random\n",
    "from datetime import datetime, timedelta\n",
    "\n",
    "# Lista de produtos\n",
    "produtos = [\"Sapato\", \"Meia\", \"Camisa\", \"Calça\", \"Bolsa\", \"Relogio\", \"Cueca\", \"Bermuda\", \"Camiseta\"]\n",
    "\n",
    "# Função para gerar datas aleatórias em um intervalo\n",
    "def random_date(start, end):\n",
    "    delta = end - start\n",
    "    return start + timedelta(days=random.randint(0, delta.days))\n",
    "\n",
    "# Definir intervalo de datas\n",
    "start_date = datetime(2023, 1, 1)\n",
    "end_date = datetime(2025, 12, 31)\n",
    "\n",
    "# Criando os dados\n",
    "rows = []\n",
    "for _ in range(200):\n",
    "    produto = random.choice(produtos)\n",
    "    data_pedido = random_date(start_date, end_date - timedelta(days=30))\n",
    "    data_recebimento = data_pedido + timedelta(days=random.randint(1, 10))\n",
    "    data_disponibilidade = data_recebimento + timedelta(days=random.randint(1, 5))\n",
    "    data_envio = data_disponibilidade + timedelta(days=random.randint(1, 5))\n",
    "    data_entrega = data_envio + timedelta(days=random.randint(1, 7))\n",
    "    data_validade = data_envio + timedelta(days=random.randint(30, 365))\n",
    "    data_transacao = data_pedido + timedelta(days=random.randint(1, 15))\n",
    "\n",
    "    estoque_inicial = random.randint(10, 100)\n",
    "    entrada = random.randint(0, 50)\n",
    "    saida = random.randint(0, estoque_inicial + entrada)\n",
    "    estoque_final = estoque_inicial + entrada - saida\n",
    "    demanda = random.randint(0, 100)\n",
    "    vendas_totais = random.randint(100, 1000)\n",
    "    quantidade_pedida = random.randint(1, 50)\n",
    "    ocorrencia = random.choice([\"Sim\", \"Não\"])\n",
    "    custo = round(random.uniform(100, 500), 2)\n",
    "\n",
    "    rows.append([\n",
    "        produto, data_transacao.date(), estoque_inicial, entrada, saida, estoque_final, demanda,\n",
    "        vendas_totais, data_validade.date(), data_recebimento.date(), data_disponibilidade.date(),\n",
    "        data_envio.date(), data_entrega.date(), data_pedido.date(), quantidade_pedida, ocorrencia, custo\n",
    "    ])\n",
    "\n",
    "# Criando DataFrame\n",
    "df = pd.DataFrame(rows, columns=[\n",
    "    \"Produto\", \"Data\", \"Estoque Inicial\", \"Entrada (Sell-in)\", \"Saída (Sell-out)\", \"Estoque Final\", \"Demanda\",\n",
    "    \"Vendas Totais do Mercado\", \"Data de Validade\", \"Data de Recebimento\", \"Data de Disponibilidade\",\n",
    "    \"Data de Envio\", \"Data de Entrega\", \"Data de Pedido\", \"Quantidade Pedida\", \"Ocorrência\", \"Custo\"\n",
    "])\n",
    "\n",
    "# Salvando em um arquivo Excel\n",
    "# df.to_excel('/content/drive/MyDrive/Colab Notebooks/Aulas SOULCODE/PANDAS/teste.xlsx', index=False)\n",
    "\n",
    "df.to_excel('/content/drive/MyDrive/REPOSITORIOS/PYTHON/PTH_001_PLAN_CADEIA_SUPRIMENTOS/pth_001_cadeia_suprimentos.xlsx', index=False)\n",
    "\n",
    "print(\"Planilha criada com sucesso!\")\n",
    "\n"
   ]
  }
 ],
 "metadata": {
  "colab": {
   "authorship_tag": "ABX9TyNfwUZ+I3JDaCeJvQAShPqR",
   "mount_file_id": "1drmWujHUidFNUs1suFbwqNVocx10JlUk",
   "provenance": [
    {
     "file_id": "1OEuV6tniP72OJygEyxI2Dxf1lq4GxQCx",
     "timestamp": 1742644756881
    }
   ]
  },
  "kernelspec": {
   "display_name": "Python 3",
   "name": "python3"
  },
  "language_info": {
   "name": "python"
  }
 },
 "nbformat": 4,
 "nbformat_minor": 0
}
